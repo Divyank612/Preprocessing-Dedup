{
 "cells": [
  {
   "cell_type": "markdown",
   "metadata": {},
   "source": [
    "# PreProcessing "
   ]
  },
  {
   "cell_type": "code",
   "execution_count": null,
   "metadata": {},
   "outputs": [],
   "source": [
    "## LOADING THE LIB\n",
    "\n",
    "import pandas as pd\n",
    "import numpy as np\n",
    "import matplotlib.pyplot as plt\n",
    "import seaborn as se\n",
    "from sklearn.impute import SimpleImputer"
   ]
  },
  {
   "cell_type": "code",
   "execution_count": null,
   "metadata": {},
   "outputs": [],
   "source": [
    "## LOADING THE DATA SET\n",
    "data = pd.read_csv(\"dataset.csv\") "
   ]
  },
  {
   "cell_type": "code",
   "execution_count": null,
   "metadata": {},
   "outputs": [],
   "source": [
    "##  Check Basic Information\n",
    "\n",
    "data.info()  # Check data types and missing values\n",
    "data.head()  # View the first few rows\n",
    "data.tail()  # View the last few rows\n",
    "data.shape  # Get the number of rows and columns\n",
    "data.columns  # List column names"
   ]
  },
  {
   "cell_type": "code",
   "execution_count": null,
   "metadata": {},
   "outputs": [],
   "source": [
    "## CHECK FOR MISSING VALUES\n",
    "data.isnull().sum()  # Count missing values in each column\n",
    "data.isna().sum()  # Alternative way to check missing values"
   ]
  },
  {
   "cell_type": "markdown",
   "metadata": {},
   "source": [
    "### HANDLING MISSING VALUES"
   ]
  },
  {
   "cell_type": "code",
   "execution_count": null,
   "metadata": {},
   "outputs": [],
   "source": [
    "\n",
    "## Dropping the whole column\n",
    "\n",
    "def drop_column(df, column_name):\n",
    "\n",
    "    df = df.drop(columns=[column_name])\n",
    "    return df\n",
    "\n",
    "\n",
    "# Function 1: dDrop rows (CCA)\n",
    "\n",
    "def complete_case_analysis(df):\n",
    "    \"\"\"\n",
    "    Removes all rows with missing values (Complete Case Analysis).\n",
    "    \"\"\"\n",
    "    return df.dropna()\n",
    "\n",
    "\n",
    "\n",
    "# Function 2: Arbitrary Imputation\n",
    "\n",
    "def arbitrary_imputation(df, column, value):\n",
    "    \"\"\"\n",
    "    Replaces missing values in a column with an arbitrary value.\n",
    "    \"\"\"\n",
    "    df[column].fillna(value, inplace=True)\n",
    "    return df\n",
    "\n",
    "\n",
    "# Function 3: End of Distribution Imputation\n",
    "\n",
    "def end_of_distribution_imputation(df, column, factor=3):\n",
    "    \"\"\"\n",
    "    Replaces missing values with extreme values from the distribution.\n",
    "    - Uses Mean + factor*Std for Normal distributions\n",
    "    - Uses Q3 + factor*IQR for Skewed distributions\n",
    "    \"\"\"\n",
    "    if df[column].dtype in ['int64', 'float64']:  \n",
    "        Q1 = df[column].quantile(0.25)\n",
    "        Q3 = df[column].quantile(0.75)\n",
    "        IQR = Q3 - Q1\n",
    "        extreme_value = Q3 + factor * IQR  # Setting extreme value at Q3 + 3*IQR\n",
    "        df[column].fillna(extreme_value, inplace=True)\n",
    "    return df\n",
    "\n",
    "\n",
    "\n",
    "# Function 4: Random Sample Imputation\n",
    "def random_sample_imputation(df, column):\n",
    "    \"\"\"\n",
    "    Replaces missing values in a column with randomly sampled values from the same column.\n",
    "    \"\"\"\n",
    "    column_values = data[column].dropna()\n",
    "    random_sample = np.random.choice(column_values, size=data['bedrooms'].isnull().sum(),replace=True)\n",
    "    data.loc[data[column].isnull(), column] = random_sample\n",
    "    return df\n",
    "\n",
    "\n",
    "\n",
    "# Function 5: Simple Imputer (Mean, Median, Mode)\n",
    "def simple_imputer(df, column):\n",
    "    \"\"\"\n",
    "    Prompts user to choose mean, median, or mode for imputation.\n",
    "    \"\"\"\n",
    "    print(\"Choose imputation method: [1] Mean, [2] Median, [3] Mode\")\n",
    "    choice = input(\"Enter choice (1/2/3): \")\n",
    "    \n",
    "    if choice == '1':\n",
    "        imputer = SimpleImputer(strategy=\"mean\")\n",
    "    elif choice == '2':\n",
    "        imputer = SimpleImputer(strategy=\"median\")\n",
    "    elif choice == '3':\n",
    "        imputer = SimpleImputer(strategy=\"most_frequent\")\n",
    "    else:\n",
    "        print(\"Invalid choice. Defaulting to mean.\")\n",
    "        imputer = SimpleImputer(strategy=\"mean\")\n",
    "    \n",
    "    df[column] = imputer.fit_transform(df[[column]])\n",
    "    return df\n",
    "\n",
    "########################################################\n",
    "########################################################\n",
    "\n"
   ]
  },
  {
   "cell_type": "markdown",
   "metadata": {},
   "source": []
  },
  {
   "cell_type": "markdown",
   "metadata": {},
   "source": [
    "#### Outlier"
   ]
  },
  {
   "cell_type": "code",
   "execution_count": null,
   "metadata": {},
   "outputs": [],
   "source": [
    "import seaborn as sns\n",
    "import matplotlib.pyplot as plt\n",
    "\n",
    "sns.boxplot(x=df[\"numerical_column\"])\n",
    "plt.show()\n"
   ]
  },
  {
   "cell_type": "code",
   "execution_count": null,
   "metadata": {},
   "outputs": [],
   "source": [
    "Q1 = data[\"num_col\"].quantile(0.25)\n",
    "Q3 = data[\"num_col\"].quantile(0.75)\n",
    "IQR = Q3 - Q1\n",
    "\n",
    "data = data[~((data[\"num_col\"] < (Q1 - 1.5 * IQR)) | (data[\"num_col\"] > (Q3 + 1.5 * IQR)))]\n"
   ]
  },
  {
   "cell_type": "markdown",
   "metadata": {},
   "source": [
    "### Feature Scaling"
   ]
  },
  {
   "cell_type": "code",
   "execution_count": null,
   "metadata": {},
   "outputs": [],
   "source": [
    "from sklearn.preprocessing import StandardScaler\n",
    "\n",
    "scaler = StandardScaler()\n",
    "data[\"numerical_column\"] = scaler.fit_transform(data[[\"numerical_column\"]])\n"
   ]
  },
  {
   "cell_type": "markdown",
   "metadata": {},
   "source": [
    "### Encoding"
   ]
  },
  {
   "cell_type": "code",
   "execution_count": null,
   "metadata": {},
   "outputs": [],
   "source": [
    "import pandas as pd\n",
    "import numpy as np\n",
    "from sklearn.preprocessing import OneHotEncoder, LabelEncoder, OrdinalEncoder\n",
    "\n",
    "# Create sample dataset\n",
    "data = {\n",
    "    \"Product\": [\"Laptop\", \"Smartphone\", \"Tablet\", \"Laptop\", \"Smartphone\", \"Tablet\", \"Headphones\", \"Headphones\"],\n",
    "    \"Brand\": [\"Dell\", \"Apple\", \"Samsung\", \"HP\", \"Apple\", \"Samsung\", \"Sony\", \"Bose\"],\n",
    "    \"Category\": [\"Electronics\", \"Electronics\", \"Electronics\", \"Electronics\", \"Electronics\", \"Electronics\", \"Audio\", \"Audio\"],\n",
    "    \"Price_Range\": [\"High\", \"High\", \"Medium\", \"Medium\", \"High\", \"Medium\", \"Low\", \"Medium\"],\n",
    "    \"Sales\": [500, 600, 300, 400, 650, 320, 200, 280]  # Target Variable\n",
    "}\n",
    "df = pd.DataFrame(data)\n",
    "\n",
    "# One-Hot Encoding (OHE)\n",
    "df_ohe = pd.get_dummies(df, columns=[\"Product\", \"Brand\", \"Category\", \"Price_Range\"], drop_first=True)\n",
    "\n",
    "# Label Encoding\n",
    "label_enc = LabelEncoder()\n",
    "df[\"Product_Label\"] = label_enc.fit_transform(df[\"Product\"])\n",
    "df[\"Brand_Label\"] = label_enc.fit_transform(df[\"Brand\"])\n",
    "\n",
    "# Ordinal Encoding (for ordered categories)\n",
    "ordinal_enc = OrdinalEncoder(categories=[[\"Low\", \"Medium\", \"High\"]])\n",
    "df[\"Price_Ordinal\"] = ordinal_enc.fit_transform(df[[\"Price_Range\"]])\n",
    "\n",
    "# Display results\n",
    "df_encoded = pd.concat([df, df_ohe, df_binary], axis=1)\n",
    "print(df_encoded.head())\n"
   ]
  },
  {
   "cell_type": "code",
   "execution_count": null,
   "metadata": {},
   "outputs": [],
   "source": []
  },
  {
   "cell_type": "code",
   "execution_count": null,
   "metadata": {},
   "outputs": [],
   "source": []
  },
  {
   "cell_type": "code",
   "execution_count": null,
   "metadata": {},
   "outputs": [],
   "source": []
  }
 ],
 "metadata": {
  "kernelspec": {
   "display_name": "Python 3",
   "language": "python",
   "name": "python3"
  },
  "language_info": {
   "codemirror_mode": {
    "name": "ipython",
    "version": 3
   },
   "file_extension": ".py",
   "mimetype": "text/x-python",
   "name": "python",
   "nbconvert_exporter": "python",
   "pygments_lexer": "ipython3",
   "version": "3.11.4"
  }
 },
 "nbformat": 4,
 "nbformat_minor": 2
}
