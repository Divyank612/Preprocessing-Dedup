{
 "cells": [
  {
   "cell_type": "code",
   "execution_count": 3,
   "metadata": {},
   "outputs": [
    {
     "name": "stdout",
     "output_type": "stream",
     "text": [
      "<class 'pandas.core.frame.DataFrame'>\n",
      "RangeIndex: 10 entries, 0 to 9\n",
      "Data columns (total 8 columns):\n",
      " #   Column            Non-Null Count  Dtype  \n",
      "---  ------            --------------  -----  \n",
      " 0   Order_ID          10 non-null     object \n",
      " 1   Customer_Name     10 non-null     object \n",
      " 2   Product_Category  10 non-null     object \n",
      " 3   Product_Name      10 non-null     object \n",
      " 4   Quantity          10 non-null     int64  \n",
      " 5   Price_Per_Unit    10 non-null     float64\n",
      " 6   Total_Amount      10 non-null     float64\n",
      " 7   Order_Date        10 non-null     object \n",
      "dtypes: float64(2), int64(1), object(5)\n",
      "memory usage: 768.0+ bytes\n",
      "None\n",
      "   Order_ID       Customer_Name Product_Category Product_Name  Quantity  \\\n",
      "0  0844e15d      Jonathan Perez      Electronics   Smartphone         2   \n",
      "1  b3472ab1      William Nelson        Groceries         Eggs         5   \n",
      "2  d1dbe108     Lawrence Arnold        Groceries        Bread         2   \n",
      "3  42ec140d  Dr. Robert Johnson           Beauty    Sunscreen         2   \n",
      "4  c8266aea           Juan Snow             Toys         Doll         8   \n",
      "\n",
      "   Price_Per_Unit  Total_Amount  Order_Date  \n",
      "0          435.64        871.28  2024-11-24  \n",
      "1          132.37        661.85  2023-10-29  \n",
      "2          237.93        475.86  2024-05-15  \n",
      "3          249.63        499.26  2023-05-31  \n",
      "4          450.45       3603.60  2024-05-17  \n",
      "Exact Duplicates: 1\n",
      "Duplicate Order_IDs: 5\n",
      "Duplicate Customer Orders: 2\n"
     ]
    }
   ],
   "source": [
    "import pandas as pd\n",
    "\n",
    "# Load dataset\n",
    "df = pd.read_csv(\"complex_sales_data.csv\")\n",
    "\n",
    "# Display basic info\n",
    "print(df.info())\n",
    "print(df.head())\n",
    "\n",
    "# Check for duplicate records\n",
    "print(\"Exact Duplicates:\", df.duplicated().sum())\n",
    "print(\"Duplicate Order_IDs:\", df.duplicated(subset=['Order_ID']).sum())\n",
    "print(\"Duplicate Customer Orders:\", df.duplicated(subset=['Customer_Name', 'Product_Name', 'Order_Date']).sum())\n"
   ]
  },
  {
   "cell_type": "code",
   "execution_count": 4,
   "metadata": {},
   "outputs": [
    {
     "name": "stdout",
     "output_type": "stream",
     "text": [
      "   Order_ID       Customer_Name Product_Category Product_Name  Quantity  \\\n",
      "0  0844e15d      jonathan perez      Electronics   Smartphone         2   \n",
      "1  b3472ab1      william nelson        Groceries         Eggs         5   \n",
      "2  d1dbe108     lawrence arnold        Groceries        Bread         2   \n",
      "3  42ec140d  dr. robert johnson           Beauty    Sunscreen         2   \n",
      "4  c8266aea           juan snow             Toys         Doll         8   \n",
      "\n",
      "   Price_Per_Unit  Total_Amount Order_Date  \n",
      "0          435.64        871.28 2024-11-24  \n",
      "1          132.37        661.85 2023-10-29  \n",
      "2          237.93        475.86 2024-05-15  \n",
      "3          249.63        499.26 2023-05-31  \n",
      "4          450.45       3603.60 2024-05-17  \n"
     ]
    },
    {
     "name": "stderr",
     "output_type": "stream",
     "text": [
      "C:\\Users\\Divyank\\AppData\\Local\\Temp\\ipykernel_29080\\3754638451.py:5: UserWarning: Parsing dates in %Y-%m-%d format when dayfirst=True was specified. Pass `dayfirst=False` or specify a format to silence this warning.\n",
      "  df[\"Order_Date\"] = pd.to_datetime(df[\"Order_Date\"], errors=\"coerce\", dayfirst=True)  # Handle different formats\n"
     ]
    }
   ],
   "source": [
    "# Trim spaces and convert names to lowercase\n",
    "df[\"Customer_Name\"] = df[\"Customer_Name\"].str.strip().str.lower()\n",
    "\n",
    "# Standardize date format\n",
    "df[\"Order_Date\"] = pd.to_datetime(df[\"Order_Date\"], errors=\"coerce\", dayfirst=True)  # Handle different formats\n",
    "\n",
    "# Display cleaned data\n",
    "print(df.head())\n"
   ]
  },
  {
   "cell_type": "code",
   "execution_count": 5,
   "metadata": {},
   "outputs": [
    {
     "name": "stdout",
     "output_type": "stream",
     "text": [
      "After removing exact duplicates: (9, 8)\n"
     ]
    }
   ],
   "source": [
    "df = df.drop_duplicates()\n",
    "print(\"After removing exact duplicates:\", df.shape)\n"
   ]
  },
  {
   "cell_type": "code",
   "execution_count": 6,
   "metadata": {},
   "outputs": [
    {
     "name": "stdout",
     "output_type": "stream",
     "text": [
      "After merging partial duplicates: (7, 7)\n"
     ]
    }
   ],
   "source": [
    "df = df.groupby([\"Customer_Name\", \"Product_Name\", \"Order_Date\"], as_index=False).agg({\n",
    "    \"Quantity\": \"sum\",\n",
    "    \"Total_Amount\": \"sum\",\n",
    "    \"Price_Per_Unit\": \"first\",  # Assuming price remains the same\n",
    "    \"Order_ID\": \"first\"  # Keep one order ID\n",
    "})\n",
    "print(\"After merging partial duplicates:\", df.shape)\n"
   ]
  },
  {
   "cell_type": "code",
   "execution_count": 8,
   "metadata": {},
   "outputs": [
    {
     "name": "stdout",
     "output_type": "stream",
     "text": [
      "After fixing fuzzy duplicates: (7, 7)\n"
     ]
    },
    {
     "name": "stderr",
     "output_type": "stream",
     "text": [
      "c:\\Users\\Divyank\\miniconda3\\envs\\moco_env\\lib\\site-packages\\fuzzywuzzy\\fuzz.py:11: UserWarning: Using slow pure-python SequenceMatcher. Install python-Levenshtein to remove this warning\n",
      "  warnings.warn('Using slow pure-python SequenceMatcher. Install python-Levenshtein to remove this warning')\n"
     ]
    }
   ],
   "source": [
    "from fuzzywuzzy import fuzz, process\n",
    "\n",
    "# Function to find and replace similar names\n",
    "def standardize_names(df, threshold=85):\n",
    "    unique_names = df[\"Customer_Name\"].unique()\n",
    "    name_mapping = {}\n",
    "\n",
    "    for name in unique_names:\n",
    "        match = process.extractOne(name, unique_names, scorer=fuzz.token_sort_ratio)\n",
    "        if match[1] >= threshold and match[0] != name:\n",
    "            name_mapping[name] = match[0]\n",
    "\n",
    "    df[\"Customer_Name\"] = df[\"Customer_Name\"].replace(name_mapping)\n",
    "    return df\n",
    "\n",
    "# Apply fuzzy deduplication\n",
    "df = standardize_names(df)\n",
    "print(\"After fixing fuzzy duplicates:\", df.shape)\n"
   ]
  },
  {
   "cell_type": "code",
   "execution_count": 9,
   "metadata": {},
   "outputs": [
    {
     "name": "stdout",
     "output_type": "stream",
     "text": [
      "Cleaned data saved successfully!\n"
     ]
    }
   ],
   "source": [
    "df.to_csv(\"cleaned_sales_data.csv\", index=False)\n",
    "print(\"Cleaned data saved successfully!\")\n"
   ]
  },
  {
   "cell_type": "markdown",
   "metadata": {},
   "source": [
    "## Advance methods"
   ]
  },
  {
   "cell_type": "markdown",
   "metadata": {},
   "source": [
    "##### dataset"
   ]
  },
  {
   "cell_type": "code",
   "execution_count": 10,
   "metadata": {},
   "outputs": [
    {
     "name": "stdout",
     "output_type": "stream",
     "text": [
      "  Customer_Name                    Email          Address     Product  \\\n",
      "0   Alice Brown  alice.brown@outlook.com     789 Pine Ave  Headphones   \n",
      "1   Alice Brown  alice.brown@outlook.com     789 Pine Ave  Headphones   \n",
      "2      Alice B.       aliceb@outlook.com  789 Pine Avenue  Headphones   \n",
      "3    Jane Smith      janesmith@yahoo.com       456 Oak Rd  Smartphone   \n",
      "4        J. Doe           jdoe@gmail.com  123 Main Street      Laptop   \n",
      "5      Alice B.       aliceb@outlook.com  789 Pine Avenue  Headphones   \n",
      "6       Jane S.         jsmith@yahoo.com     456 Oak Road  Smartphone   \n",
      "7      John Doe        johndoe@gmail.com      123 Main St      Laptop   \n",
      "8      John Doe        johndoe@gmail.com      123 Main St      Laptop   \n",
      "\n",
      "                                   Description  Price  \n",
      "0                   Noise-canceling headphones    300  \n",
      "1                   Noise-canceling headphones    300  \n",
      "2  Premium noise-canceling over-ear headphones    300  \n",
      "3             5G smartphone with great battery    700  \n",
      "4             16GB RAM high-performance laptop   1000  \n",
      "5  Premium noise-canceling over-ear headphones    300  \n",
      "6       Smartphone with 5G & long battery life    700  \n",
      "7                Powerful laptop with 16GB RAM   1000  \n",
      "8                Powerful laptop with 16GB RAM   1000  \n"
     ]
    }
   ],
   "source": [
    "import pandas as pd\n",
    "import numpy as np\n",
    "import random\n",
    "import hashlib\n",
    "\n",
    "# Set seed for reproducibility\n",
    "random.seed(42)\n",
    "\n",
    "# Generate random sample data\n",
    "data = [\n",
    "    {\"Customer_Name\": \"John Doe\", \"Email\": \"johndoe@gmail.com\", \"Address\": \"123 Main St\", \"Product\": \"Laptop\", \"Description\": \"Powerful laptop with 16GB RAM\", \"Price\": 1000},\n",
    "    {\"Customer_Name\": \"J. Doe\", \"Email\": \"jdoe@gmail.com\", \"Address\": \"123 Main Street\", \"Product\": \"Laptop\", \"Description\": \"16GB RAM high-performance laptop\", \"Price\": 1000},\n",
    "    {\"Customer_Name\": \"Jane Smith\", \"Email\": \"janesmith@yahoo.com\", \"Address\": \"456 Oak Rd\", \"Product\": \"Smartphone\", \"Description\": \"5G smartphone with great battery\", \"Price\": 700},\n",
    "    {\"Customer_Name\": \"Jane S.\", \"Email\": \"jsmith@yahoo.com\", \"Address\": \"456 Oak Road\", \"Product\": \"Smartphone\", \"Description\": \"Smartphone with 5G & long battery life\", \"Price\": 700},\n",
    "    {\"Customer_Name\": \"Alice Brown\", \"Email\": \"alice.brown@outlook.com\", \"Address\": \"789 Pine Ave\", \"Product\": \"Headphones\", \"Description\": \"Noise-canceling headphones\", \"Price\": 300},\n",
    "    {\"Customer_Name\": \"Alice B.\", \"Email\": \"aliceb@outlook.com\", \"Address\": \"789 Pine Avenue\", \"Product\": \"Headphones\", \"Description\": \"Premium noise-canceling over-ear headphones\", \"Price\": 300},\n",
    "]\n",
    "\n",
    "# Duplicate some records (introducing exact duplicates)\n",
    "data.extend(random.sample(data, 3))\n",
    "\n",
    "# Convert to DataFrame\n",
    "df = pd.DataFrame(data)\n",
    "\n",
    "# Shuffle the dataset\n",
    "df = df.sample(frac=1).reset_index(drop=True)\n",
    "\n",
    "# Display dataset\n",
    "print(df)\n"
   ]
  },
  {
   "cell_type": "markdown",
   "metadata": {},
   "source": [
    "#### Hash-Based Deduplication\n"
   ]
  },
  {
   "cell_type": "code",
   "execution_count": 11,
   "metadata": {},
   "outputs": [
    {
     "name": "stdout",
     "output_type": "stream",
     "text": [
      "0    5f13addccb7dd3a034fd94a3a8fbbd64\n",
      "1    5f13addccb7dd3a034fd94a3a8fbbd64\n",
      "2    5a68b07bd3a5c7867b60fd5193bbb630\n",
      "3    405403b55dbdd0bc9e357e9b094ffa8a\n",
      "4    cda41a99f6d90f112a46f48b17c69023\n",
      "5    5a68b07bd3a5c7867b60fd5193bbb630\n",
      "6    94e7a1d368797f5a0e060035dd8dc50f\n",
      "7    22adf030eab26379827de26b35153749\n",
      "8    22adf030eab26379827de26b35153749\n",
      "Name: hash, dtype: object\n",
      "  Customer_Name                    Email          Address     Product  \\\n",
      "0   Alice Brown  alice.brown@outlook.com     789 Pine Ave  Headphones   \n",
      "2      Alice B.       aliceb@outlook.com  789 Pine Avenue  Headphones   \n",
      "3    Jane Smith      janesmith@yahoo.com       456 Oak Rd  Smartphone   \n",
      "4        J. Doe           jdoe@gmail.com  123 Main Street      Laptop   \n",
      "6       Jane S.         jsmith@yahoo.com     456 Oak Road  Smartphone   \n",
      "7      John Doe        johndoe@gmail.com      123 Main St      Laptop   \n",
      "\n",
      "                                   Description  Price  \n",
      "0                   Noise-canceling headphones    300  \n",
      "2  Premium noise-canceling over-ear headphones    300  \n",
      "3             5G smartphone with great battery    700  \n",
      "4             16GB RAM high-performance laptop   1000  \n",
      "6       Smartphone with 5G & long battery life    700  \n",
      "7                Powerful laptop with 16GB RAM   1000  \n"
     ]
    }
   ],
   "source": [
    "### Hash-Based Deduplication\n",
    "\n",
    "# Generate unique hash for each row\n",
    "df['hash'] = df.apply(lambda x: hashlib.md5(str(x.values).encode()).hexdigest(), axis=1)\n",
    "\n",
    "# Drop duplicates based on hash\n",
    "print(df['hash'])\n",
    "df = df.drop_duplicates(subset=['hash']).drop(columns=['hash'])\n",
    "\n",
    "print(df)\n"
   ]
  },
  {
   "cell_type": "markdown",
   "metadata": {},
   "source": [
    "####  Cosine Similarity for Text Deduplication"
   ]
  },
  {
   "cell_type": "code",
   "execution_count": 12,
   "metadata": {},
   "outputs": [
    {
     "name": "stdout",
     "output_type": "stream",
     "text": [
      "  Customer_Name                    Email          Address     Product  \\\n",
      "0   Alice Brown  alice.brown@outlook.com     789 Pine Ave  Headphones   \n",
      "2      Alice B.       aliceb@outlook.com  789 Pine Avenue  Headphones   \n",
      "3    Jane Smith      janesmith@yahoo.com       456 Oak Rd  Smartphone   \n",
      "4        J. Doe           jdoe@gmail.com  123 Main Street      Laptop   \n",
      "6       Jane S.         jsmith@yahoo.com     456 Oak Road  Smartphone   \n",
      "7      John Doe        johndoe@gmail.com      123 Main St      Laptop   \n",
      "\n",
      "                                   Description  Price  \n",
      "0                   Noise-canceling headphones    300  \n",
      "2  Premium noise-canceling over-ear headphones    300  \n",
      "3             5G smartphone with great battery    700  \n",
      "4             16GB RAM high-performance laptop   1000  \n",
      "6       Smartphone with 5G & long battery life    700  \n",
      "7                Powerful laptop with 16GB RAM   1000  \n"
     ]
    }
   ],
   "source": [
    "####  Cosine Similarity for Text Deduplication\n",
    "\n",
    "from sklearn.feature_extraction.text import TfidfVectorizer\n",
    "from sklearn.metrics.pairwise import cosine_similarity\n",
    "\n",
    "# Vectorize text descriptions\n",
    "vectorizer = TfidfVectorizer()\n",
    "tfidf_matrix = vectorizer.fit_transform(df[\"Description\"])\n",
    "\n",
    "# Compute cosine similarity\n",
    "cos_sim = cosine_similarity(tfidf_matrix)\n",
    "\n",
    "# Identify duplicate indices (threshold = 0.85)\n",
    "duplicate_indices = set()\n",
    "for i in range(len(cos_sim)):\n",
    "    for j in range(i + 1, len(cos_sim)):\n",
    "        if cos_sim[i, j] > 0.85:\n",
    "            duplicate_indices.add(j)\n",
    "\n",
    "# Drop duplicate descriptions\n",
    "df = df.drop(list(duplicate_indices))\n",
    "\n",
    "print(df)\n"
   ]
  },
  {
   "cell_type": "markdown",
   "metadata": {},
   "source": [
    "#####  Clustering-Based Deduplication (DBSCAN)"
   ]
  },
  {
   "cell_type": "code",
   "execution_count": 13,
   "metadata": {},
   "outputs": [
    {
     "name": "stdout",
     "output_type": "stream",
     "text": [
      "Empty DataFrame\n",
      "Columns: [Customer_Name, Email, Address, Product, Description, Price]\n",
      "Index: []\n"
     ]
    }
   ],
   "source": [
    "#####  Clustering-Based Deduplication (DBSCAN)\n",
    "\n",
    "from sklearn.cluster import DBSCAN\n",
    "from sklearn.preprocessing import LabelEncoder\n",
    "import numpy as np\n",
    "\n",
    "# Encode categorical values as numbers\n",
    "encoder = LabelEncoder()\n",
    "df[\"Customer_Encoded\"] = encoder.fit_transform(df[\"Customer_Name\"])\n",
    "\n",
    "# Apply DBSCAN clustering\n",
    "clustering = DBSCAN(eps=1, min_samples=2).fit(np.array(df[\"Customer_Encoded\"]).reshape(-1, 1))\n",
    "df[\"Cluster\"] = clustering.labels_\n",
    "\n",
    "# Remove records that belong to the same cluster\n",
    "df = df[df[\"Cluster\"] == -1].drop(columns=[\"Customer_Encoded\", \"Cluster\"])\n",
    "\n",
    "print(df)\n",
    "\n"
   ]
  },
  {
   "cell_type": "code",
   "execution_count": null,
   "metadata": {},
   "outputs": [],
   "source": []
  }
 ],
 "metadata": {
  "kernelspec": {
   "display_name": "moco_env",
   "language": "python",
   "name": "python3"
  },
  "language_info": {
   "codemirror_mode": {
    "name": "ipython",
    "version": 3
   },
   "file_extension": ".py",
   "mimetype": "text/x-python",
   "name": "python",
   "nbconvert_exporter": "python",
   "pygments_lexer": "ipython3",
   "version": "3.9.21"
  }
 },
 "nbformat": 4,
 "nbformat_minor": 2
}
