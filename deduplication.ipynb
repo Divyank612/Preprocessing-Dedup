{
 "cells": [
  {
   "cell_type": "code",
   "execution_count": 1,
   "metadata": {},
   "outputs": [
    {
     "name": "stdout",
     "output_type": "stream",
     "text": [
      "<class 'pandas.core.frame.DataFrame'>\n",
      "RangeIndex: 10 entries, 0 to 9\n",
      "Data columns (total 8 columns):\n",
      " #   Column            Non-Null Count  Dtype  \n",
      "---  ------            --------------  -----  \n",
      " 0   Order_ID          10 non-null     object \n",
      " 1   Customer_Name     10 non-null     object \n",
      " 2   Product_Category  10 non-null     object \n",
      " 3   Product_Name      10 non-null     object \n",
      " 4   Quantity          10 non-null     int64  \n",
      " 5   Price_Per_Unit    10 non-null     float64\n",
      " 6   Total_Amount      10 non-null     float64\n",
      " 7   Order_Date        10 non-null     object \n",
      "dtypes: float64(2), int64(1), object(5)\n",
      "memory usage: 772.0+ bytes\n",
      "None\n",
      "   Order_ID       Customer_Name Product_Category Product_Name  Quantity  \\\n",
      "0  0844e15d      Jonathan Perez      Electronics   Smartphone         2   \n",
      "1  b3472ab1      William Nelson        Groceries         Eggs         5   \n",
      "2  d1dbe108     Lawrence Arnold        Groceries        Bread         2   \n",
      "3  42ec140d  Dr. Robert Johnson           Beauty    Sunscreen         2   \n",
      "4  c8266aea           Juan Snow             Toys         Doll         8   \n",
      "\n",
      "   Price_Per_Unit  Total_Amount  Order_Date  \n",
      "0          435.64        871.28  2024-11-24  \n",
      "1          132.37        661.85  2023-10-29  \n",
      "2          237.93        475.86  2024-05-15  \n",
      "3          249.63        499.26  2023-05-31  \n",
      "4          450.45       3603.60  2024-05-17  \n",
      "Exact Duplicates: 1\n",
      "Duplicate Order_IDs: 5\n",
      "Duplicate Customer Orders: 2\n"
     ]
    }
   ],
   "source": [
    "import pandas as pd\n",
    "\n",
    "# Load dataset\n",
    "df = pd.read_csv(\"complex_sales_data.csv\")\n",
    "\n",
    "# Display basic info\n",
    "print(df.info())\n",
    "print(df.head())\n",
    "\n",
    "# Check for duplicate records\n",
    "print(\"Exact Duplicates:\", df.duplicated().sum())\n",
    "print(\"Duplicate Order_IDs:\", df.duplicated(subset=['Order_ID']).sum())\n",
    "print(\"Duplicate Customer Orders:\", df.duplicated(subset=['Customer_Name', 'Product_Name', 'Order_Date']).sum())\n"
   ]
  },
  {
   "cell_type": "code",
   "execution_count": 2,
   "metadata": {},
   "outputs": [
    {
     "name": "stdout",
     "output_type": "stream",
     "text": [
      "   Order_ID       Customer_Name Product_Category Product_Name  Quantity  \\\n",
      "0  0844e15d      jonathan perez      Electronics   Smartphone         2   \n",
      "1  b3472ab1      william nelson        Groceries         Eggs         5   \n",
      "2  d1dbe108     lawrence arnold        Groceries        Bread         2   \n",
      "3  42ec140d  dr. robert johnson           Beauty    Sunscreen         2   \n",
      "4  c8266aea           juan snow             Toys         Doll         8   \n",
      "\n",
      "   Price_Per_Unit  Total_Amount Order_Date  \n",
      "0          435.64        871.28 2024-11-24  \n",
      "1          132.37        661.85 2023-10-29  \n",
      "2          237.93        475.86 2024-05-15  \n",
      "3          249.63        499.26 2023-05-31  \n",
      "4          450.45       3603.60 2024-05-17  \n"
     ]
    },
    {
     "name": "stderr",
     "output_type": "stream",
     "text": [
      "C:\\Users\\Divyank\\AppData\\Local\\Temp\\ipykernel_23840\\3754638451.py:5: UserWarning: Parsing dates in %Y-%m-%d format when dayfirst=True was specified. Pass `dayfirst=False` or specify a format to silence this warning.\n",
      "  df[\"Order_Date\"] = pd.to_datetime(df[\"Order_Date\"], errors=\"coerce\", dayfirst=True)  # Handle different formats\n"
     ]
    }
   ],
   "source": [
    "# Trim spaces and convert names to lowercase\n",
    "df[\"Customer_Name\"] = df[\"Customer_Name\"].str.strip().str.lower()\n",
    "\n",
    "# Standardize date format\n",
    "df[\"Order_Date\"] = pd.to_datetime(df[\"Order_Date\"], errors=\"coerce\", dayfirst=True)  # Handle different formats\n",
    "\n",
    "# Display cleaned data\n",
    "print(df.head())\n"
   ]
  },
  {
   "cell_type": "code",
   "execution_count": 3,
   "metadata": {},
   "outputs": [
    {
     "name": "stdout",
     "output_type": "stream",
     "text": [
      "After removing exact duplicates: (9, 8)\n"
     ]
    }
   ],
   "source": [
    "df = df.drop_duplicates()\n",
    "print(\"After removing exact duplicates:\", df.shape)\n"
   ]
  },
  {
   "cell_type": "code",
   "execution_count": 4,
   "metadata": {},
   "outputs": [
    {
     "name": "stdout",
     "output_type": "stream",
     "text": [
      "After merging partial duplicates: (7, 7)\n"
     ]
    }
   ],
   "source": [
    "df = df.groupby([\"Customer_Name\", \"Product_Name\", \"Order_Date\"], as_index=False).agg({\n",
    "    \"Quantity\": \"sum\",\n",
    "    \"Total_Amount\": \"sum\",\n",
    "    \"Price_Per_Unit\": \"first\",  # Assuming price remains the same\n",
    "    \"Order_ID\": \"first\"  # Keep one order ID\n",
    "})\n",
    "print(\"After merging partial duplicates:\", df.shape)\n"
   ]
  },
  {
   "cell_type": "code",
   "execution_count": 6,
   "metadata": {},
   "outputs": [
    {
     "name": "stdout",
     "output_type": "stream",
     "text": [
      "Collecting fuzzywuzzy\n",
      "  Downloading fuzzywuzzy-0.18.0-py2.py3-none-any.whl.metadata (4.9 kB)\n",
      "Downloading fuzzywuzzy-0.18.0-py2.py3-none-any.whl (18 kB)\n",
      "Installing collected packages: fuzzywuzzy\n",
      "Successfully installed fuzzywuzzy-0.18.0\n",
      "Note: you may need to restart the kernel to use updated packages.\n"
     ]
    },
    {
     "name": "stderr",
     "output_type": "stream",
     "text": [
      "\n",
      "[notice] A new release of pip is available: 24.0 -> 25.0.1\n",
      "[notice] To update, run: python.exe -m pip install --upgrade pip\n"
     ]
    }
   ],
   "source": [
    "pip install fuzzywuzzy"
   ]
  },
  {
   "cell_type": "code",
   "execution_count": 7,
   "metadata": {},
   "outputs": [
    {
     "name": "stdout",
     "output_type": "stream",
     "text": [
      "After fixing fuzzy duplicates: (7, 7)\n"
     ]
    },
    {
     "name": "stderr",
     "output_type": "stream",
     "text": [
      "c:\\Users\\Divyank\\AppData\\Local\\Programs\\Python\\Python311\\Lib\\site-packages\\fuzzywuzzy\\fuzz.py:11: UserWarning: Using slow pure-python SequenceMatcher. Install python-Levenshtein to remove this warning\n",
      "  warnings.warn('Using slow pure-python SequenceMatcher. Install python-Levenshtein to remove this warning')\n"
     ]
    }
   ],
   "source": [
    "from fuzzywuzzy import fuzz, process\n",
    "\n",
    "# Function to find and replace similar names\n",
    "def standardize_names(df, threshold=85):\n",
    "    unique_names = df[\"Customer_Name\"].unique()\n",
    "    name_mapping = {}\n",
    "\n",
    "    for name in unique_names:\n",
    "        match = process.extractOne(name, unique_names, scorer=fuzz.token_sort_ratio)\n",
    "        if match[1] >= threshold and match[0] != name:\n",
    "            name_mapping[name] = match[0]\n",
    "\n",
    "    df[\"Customer_Name\"] = df[\"Customer_Name\"].replace(name_mapping)\n",
    "    return df\n",
    "\n",
    "# Apply fuzzy deduplication\n",
    "df = standardize_names(df)\n",
    "print(\"After fixing fuzzy duplicates:\", df.shape)\n"
   ]
  },
  {
   "cell_type": "code",
   "execution_count": 8,
   "metadata": {},
   "outputs": [
    {
     "name": "stdout",
     "output_type": "stream",
     "text": [
      "Cleaned data saved successfully!\n"
     ]
    }
   ],
   "source": [
    "df.to_csv(\"cleaned_sales_data.csv\", index=False)\n",
    "print(\"Cleaned data saved successfully!\")\n"
   ]
  },
  {
   "cell_type": "code",
   "execution_count": null,
   "metadata": {},
   "outputs": [],
   "source": []
  },
  {
   "cell_type": "code",
   "execution_count": null,
   "metadata": {},
   "outputs": [],
   "source": []
  },
  {
   "cell_type": "code",
   "execution_count": null,
   "metadata": {},
   "outputs": [],
   "source": []
  }
 ],
 "metadata": {
  "kernelspec": {
   "display_name": "Python 3",
   "language": "python",
   "name": "python3"
  },
  "language_info": {
   "codemirror_mode": {
    "name": "ipython",
    "version": 3
   },
   "file_extension": ".py",
   "mimetype": "text/x-python",
   "name": "python",
   "nbconvert_exporter": "python",
   "pygments_lexer": "ipython3",
   "version": "3.11.4"
  }
 },
 "nbformat": 4,
 "nbformat_minor": 2
}
