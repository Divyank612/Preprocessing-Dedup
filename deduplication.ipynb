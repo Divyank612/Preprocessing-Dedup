{
 "cells": [
  {
   "cell_type": "markdown",
   "metadata": {},
   "source": [
    "# Data Deduplication and Cleaning Techniques"
   ]
  },
  {
   "cell_type": "markdown",
   "metadata": {},
   "source": [
    "This notebook covers multiple methods to identify and remove duplicate or similar records using techniques such as hashing, fuzzy matching, cosine similarity, and clustering."
   ]
  },
  {
   "cell_type": "markdown",
   "metadata": {},
   "source": [
    "## BASIC METHOD"
   ]
  },
  {
   "cell_type": "code",
   "execution_count": null,
   "metadata": {},
   "outputs": [
    {
     "name": "stdout",
     "output_type": "stream",
     "text": [
      "Exact Duplicates: 1\n",
      "Duplicate Order_IDs: 5\n",
      "Duplicate Customer Orders: 2\n"
     ]
    }
   ],
   "source": [
    "import pandas as pd\n",
    "\n",
    "# Load dataset\n",
    "df = pd.read_csv(\"complex_sales_data.csv\")\n",
    "\n",
    "\n",
    "# Check for duplicate records\n",
    "print(\"Exact Duplicates:\", df.duplicated().sum())\n",
    "print(\"Duplicate Order_IDs:\", df.duplicated(subset=['Order_ID']).sum())\n",
    "print(\"Duplicate Customer Orders:\", df.duplicated(subset=['Customer_Name', 'Product_Name', 'Order_Date']).sum())\n"
   ]
  },
  {
   "cell_type": "code",
   "execution_count": 32,
   "metadata": {},
   "outputs": [
    {
     "name": "stdout",
     "output_type": "stream",
     "text": [
      "   Order_ID       Customer_Name Product_Category Product_Name  Quantity  \\\n",
      "0  0844e15d      jonathan perez      Electronics   Smartphone         2   \n",
      "1  b3472ab1      william nelson        Groceries         Eggs         5   \n",
      "2  d1dbe108     lawrence arnold        Groceries        Bread         2   \n",
      "3  42ec140d  dr. robert johnson           Beauty    Sunscreen         2   \n",
      "4  c8266aea           juan snow             Toys         Doll         8   \n",
      "\n",
      "   Price_Per_Unit  Total_Amount Order_Date  \n",
      "0          435.64        871.28 2024-11-24  \n",
      "1          132.37        661.85 2023-10-29  \n",
      "2          237.93        475.86 2024-05-15  \n",
      "3          249.63        499.26 2023-05-31  \n",
      "4          450.45       3603.60 2024-05-17  \n"
     ]
    },
    {
     "name": "stderr",
     "output_type": "stream",
     "text": [
      "C:\\Users\\Divyank\\AppData\\Local\\Temp\\ipykernel_23672\\3754638451.py:5: UserWarning: Parsing dates in %Y-%m-%d format when dayfirst=True was specified. Pass `dayfirst=False` or specify a format to silence this warning.\n",
      "  df[\"Order_Date\"] = pd.to_datetime(df[\"Order_Date\"], errors=\"coerce\", dayfirst=True)  # Handle different formats\n"
     ]
    }
   ],
   "source": [
    "# Trim spaces and convert names to lowercase\n",
    "df[\"Customer_Name\"] = df[\"Customer_Name\"].str.strip().str.lower()\n",
    "\n",
    "# Standardize date format\n",
    "df[\"Order_Date\"] = pd.to_datetime(df[\"Order_Date\"], errors=\"coerce\", dayfirst=True)  # Handle different formats\n",
    "\n",
    "# Display cleaned data\n",
    "print(df.head())\n"
   ]
  },
  {
   "cell_type": "code",
   "execution_count": 33,
   "metadata": {},
   "outputs": [
    {
     "name": "stdout",
     "output_type": "stream",
     "text": [
      "After removing exact duplicates: (9, 8)\n"
     ]
    }
   ],
   "source": [
    "df = df.drop_duplicates()\n",
    "print(\"After removing exact duplicates:\", df.shape)\n"
   ]
  },
  {
   "cell_type": "code",
   "execution_count": 34,
   "metadata": {},
   "outputs": [
    {
     "name": "stdout",
     "output_type": "stream",
     "text": [
      "After merging partial duplicates: (7, 7)\n"
     ]
    }
   ],
   "source": [
    "df = df.groupby([\"Customer_Name\", \"Product_Name\", \"Order_Date\"], as_index=False).agg({\n",
    "    \"Quantity\": \"sum\",\n",
    "    \"Total_Amount\": \"sum\",\n",
    "    \"Price_Per_Unit\": \"first\",  # Assuming price remains the same\n",
    "    \"Order_ID\": \"first\"  # Keep one order ID\n",
    "})\n",
    "print(\"After merging partial duplicates:\", df.shape)\n"
   ]
  },
  {
   "cell_type": "markdown",
   "metadata": {},
   "source": [
    "### fuzzywuzzy"
   ]
  },
  {
   "cell_type": "code",
   "execution_count": 35,
   "metadata": {},
   "outputs": [
    {
     "name": "stdout",
     "output_type": "stream",
     "text": [
      "After fixing fuzzy duplicates: (7, 7)\n"
     ]
    },
    {
     "name": "stderr",
     "output_type": "stream",
     "text": [
      "c:\\Users\\Divyank\\miniconda3\\envs\\moco_env\\lib\\site-packages\\fuzzywuzzy\\fuzz.py:11: UserWarning: Using slow pure-python SequenceMatcher. Install python-Levenshtein to remove this warning\n",
      "  warnings.warn('Using slow pure-python SequenceMatcher. Install python-Levenshtein to remove this warning')\n"
     ]
    }
   ],
   "source": [
    "from fuzzywuzzy import fuzz, process\n",
    "\n",
    "# Function to find and replace similar names\n",
    "def standardize_names(df, threshold=85):\n",
    "    unique_names = df[\"Customer_Name\"].unique()\n",
    "    name_mapping = {}\n",
    "\n",
    "    for name in unique_names:\n",
    "        match = process.extractOne(name, unique_names, scorer=fuzz.token_sort_ratio)\n",
    "        if match[1] >= threshold and match[0] != name:\n",
    "            name_mapping[name] = match[0]\n",
    "\n",
    "    df[\"Customer_Name\"] = df[\"Customer_Name\"].replace(name_mapping)\n",
    "    return df\n",
    "\n",
    "# Apply fuzzy deduplication\n",
    "df = standardize_names(df)\n",
    "print(\"After fixing fuzzy duplicates:\", df.shape)\n"
   ]
  },
  {
   "cell_type": "code",
   "execution_count": 36,
   "metadata": {},
   "outputs": [
    {
     "name": "stdout",
     "output_type": "stream",
     "text": [
      "Cleaned data saved successfully!\n"
     ]
    }
   ],
   "source": [
    "df.to_csv(\"cleaned_sales_data.csv\", index=False)\n",
    "print(\"Cleaned data saved successfully!\")\n"
   ]
  },
  {
   "cell_type": "markdown",
   "metadata": {},
   "source": [
    "## Advance methods"
   ]
  },
  {
   "cell_type": "markdown",
   "metadata": {},
   "source": [
    "#### Dataset"
   ]
  },
  {
   "cell_type": "code",
   "execution_count": 10,
   "metadata": {},
   "outputs": [],
   "source": [
    "import pandas as pd\n",
    "data = pd.read_csv(\"steam-200k.csv\")\n",
    "data.columns = [\"id\",\"game_title\",\"use_type\",\"play_hr\",\"x\"]\n",
    "\n",
    "data_cosine = data"
   ]
  },
  {
   "cell_type": "code",
   "execution_count": 11,
   "metadata": {},
   "outputs": [
    {
     "data": {
      "text/html": [
       "<div>\n",
       "<style scoped>\n",
       "    .dataframe tbody tr th:only-of-type {\n",
       "        vertical-align: middle;\n",
       "    }\n",
       "\n",
       "    .dataframe tbody tr th {\n",
       "        vertical-align: top;\n",
       "    }\n",
       "\n",
       "    .dataframe thead th {\n",
       "        text-align: right;\n",
       "    }\n",
       "</style>\n",
       "<table border=\"1\" class=\"dataframe\">\n",
       "  <thead>\n",
       "    <tr style=\"text-align: right;\">\n",
       "      <th></th>\n",
       "      <th>id</th>\n",
       "      <th>game_title</th>\n",
       "      <th>use_type</th>\n",
       "      <th>play_hr</th>\n",
       "      <th>x</th>\n",
       "    </tr>\n",
       "  </thead>\n",
       "  <tbody>\n",
       "    <tr>\n",
       "      <th>0</th>\n",
       "      <td>151603712</td>\n",
       "      <td>The Elder Scrolls V Skyrim</td>\n",
       "      <td>play</td>\n",
       "      <td>273.0</td>\n",
       "      <td>0</td>\n",
       "    </tr>\n",
       "    <tr>\n",
       "      <th>1</th>\n",
       "      <td>151603712</td>\n",
       "      <td>Fallout 4</td>\n",
       "      <td>purchase</td>\n",
       "      <td>1.0</td>\n",
       "      <td>0</td>\n",
       "    </tr>\n",
       "    <tr>\n",
       "      <th>2</th>\n",
       "      <td>151603712</td>\n",
       "      <td>Fallout 4</td>\n",
       "      <td>play</td>\n",
       "      <td>87.0</td>\n",
       "      <td>0</td>\n",
       "    </tr>\n",
       "    <tr>\n",
       "      <th>3</th>\n",
       "      <td>151603712</td>\n",
       "      <td>Spore</td>\n",
       "      <td>purchase</td>\n",
       "      <td>1.0</td>\n",
       "      <td>0</td>\n",
       "    </tr>\n",
       "    <tr>\n",
       "      <th>4</th>\n",
       "      <td>151603712</td>\n",
       "      <td>Spore</td>\n",
       "      <td>play</td>\n",
       "      <td>14.9</td>\n",
       "      <td>0</td>\n",
       "    </tr>\n",
       "    <tr>\n",
       "      <th>5</th>\n",
       "      <td>151603712</td>\n",
       "      <td>Fallout New Vegas</td>\n",
       "      <td>purchase</td>\n",
       "      <td>1.0</td>\n",
       "      <td>0</td>\n",
       "    </tr>\n",
       "    <tr>\n",
       "      <th>6</th>\n",
       "      <td>151603712</td>\n",
       "      <td>Fallout New Vegas</td>\n",
       "      <td>play</td>\n",
       "      <td>12.1</td>\n",
       "      <td>0</td>\n",
       "    </tr>\n",
       "    <tr>\n",
       "      <th>7</th>\n",
       "      <td>151603712</td>\n",
       "      <td>Left 4 Dead 2</td>\n",
       "      <td>purchase</td>\n",
       "      <td>1.0</td>\n",
       "      <td>0</td>\n",
       "    </tr>\n",
       "    <tr>\n",
       "      <th>8</th>\n",
       "      <td>151603712</td>\n",
       "      <td>Left 4 Dead 2</td>\n",
       "      <td>play</td>\n",
       "      <td>8.9</td>\n",
       "      <td>0</td>\n",
       "    </tr>\n",
       "    <tr>\n",
       "      <th>9</th>\n",
       "      <td>151603712</td>\n",
       "      <td>HuniePop</td>\n",
       "      <td>purchase</td>\n",
       "      <td>1.0</td>\n",
       "      <td>0</td>\n",
       "    </tr>\n",
       "  </tbody>\n",
       "</table>\n",
       "</div>"
      ],
      "text/plain": [
       "          id                  game_title  use_type  play_hr  x\n",
       "0  151603712  The Elder Scrolls V Skyrim      play    273.0  0\n",
       "1  151603712                   Fallout 4  purchase      1.0  0\n",
       "2  151603712                   Fallout 4      play     87.0  0\n",
       "3  151603712                       Spore  purchase      1.0  0\n",
       "4  151603712                       Spore      play     14.9  0\n",
       "5  151603712           Fallout New Vegas  purchase      1.0  0\n",
       "6  151603712           Fallout New Vegas      play     12.1  0\n",
       "7  151603712               Left 4 Dead 2  purchase      1.0  0\n",
       "8  151603712               Left 4 Dead 2      play      8.9  0\n",
       "9  151603712                    HuniePop  purchase      1.0  0"
      ]
     },
     "execution_count": 11,
     "metadata": {},
     "output_type": "execute_result"
    }
   ],
   "source": [
    "data.head(10)"
   ]
  },
  {
   "cell_type": "markdown",
   "metadata": {},
   "source": [
    "#### Hash-Based Deduplication\n"
   ]
  },
  {
   "cell_type": "code",
   "execution_count": 12,
   "metadata": {},
   "outputs": [
    {
     "name": "stdout",
     "output_type": "stream",
     "text": [
      "Total duplicates found: 71195\n"
     ]
    }
   ],
   "source": [
    "import hashlib\n",
    "\n",
    "# Define columns to hash\n",
    "cols_to_hash = ['id', 'game_title']\n",
    "\n",
    "# Generate hash for each row based on specific columns\n",
    "data['hash'] = data.apply(lambda x: hashlib.md5(''.join(str(x[col]) for col in cols_to_hash).encode()).hexdigest(), axis=1)\n",
    "\n",
    "# Sort so that 'play' comes before 'purchase'\n",
    "data.sort_values(by='use_type', ascending=False, inplace=True)\n",
    "\n",
    "# Count duplicates (excluding the first occurrence, which is 'play' due to sorting)\n",
    "duplicate_count = data.duplicated(subset=['hash']).sum()\n",
    "print(f\"Total duplicates found: {duplicate_count}\")\n",
    "\n",
    "# Drop duplicates, keeping the 'play' version\n",
    "data = data.drop_duplicates(subset=['hash']).drop(columns=['hash'])\n",
    "\n",
    "\n"
   ]
  },
  {
   "cell_type": "code",
   "execution_count": 13,
   "metadata": {},
   "outputs": [
    {
     "data": {
      "text/html": [
       "<div>\n",
       "<style scoped>\n",
       "    .dataframe tbody tr th:only-of-type {\n",
       "        vertical-align: middle;\n",
       "    }\n",
       "\n",
       "    .dataframe tbody tr th {\n",
       "        vertical-align: top;\n",
       "    }\n",
       "\n",
       "    .dataframe thead th {\n",
       "        text-align: right;\n",
       "    }\n",
       "</style>\n",
       "<table border=\"1\" class=\"dataframe\">\n",
       "  <thead>\n",
       "    <tr style=\"text-align: right;\">\n",
       "      <th></th>\n",
       "      <th>id</th>\n",
       "      <th>game_title</th>\n",
       "      <th>use_type</th>\n",
       "      <th>play_hr</th>\n",
       "      <th>x</th>\n",
       "    </tr>\n",
       "  </thead>\n",
       "  <tbody>\n",
       "    <tr>\n",
       "      <th>65779</th>\n",
       "      <td>61506388</td>\n",
       "      <td>Burnout Paradise The Ultimate Box</td>\n",
       "      <td>purchase</td>\n",
       "      <td>1.0</td>\n",
       "      <td>0</td>\n",
       "    </tr>\n",
       "    <tr>\n",
       "      <th>136815</th>\n",
       "      <td>83770731</td>\n",
       "      <td>Warlock - Master of the Arcane Powerful Lords</td>\n",
       "      <td>purchase</td>\n",
       "      <td>1.0</td>\n",
       "      <td>0</td>\n",
       "    </tr>\n",
       "    <tr>\n",
       "      <th>87392</th>\n",
       "      <td>190022459</td>\n",
       "      <td>7 Days to Die</td>\n",
       "      <td>purchase</td>\n",
       "      <td>1.0</td>\n",
       "      <td>0</td>\n",
       "    </tr>\n",
       "    <tr>\n",
       "      <th>136812</th>\n",
       "      <td>83770731</td>\n",
       "      <td>Toybox Turbos</td>\n",
       "      <td>purchase</td>\n",
       "      <td>1.0</td>\n",
       "      <td>0</td>\n",
       "    </tr>\n",
       "    <tr>\n",
       "      <th>87390</th>\n",
       "      <td>190022459</td>\n",
       "      <td>Goat Simulator</td>\n",
       "      <td>purchase</td>\n",
       "      <td>1.0</td>\n",
       "      <td>0</td>\n",
       "    </tr>\n",
       "    <tr>\n",
       "      <th>...</th>\n",
       "      <td>...</td>\n",
       "      <td>...</td>\n",
       "      <td>...</td>\n",
       "      <td>...</td>\n",
       "      <td>...</td>\n",
       "    </tr>\n",
       "    <tr>\n",
       "      <th>43653</th>\n",
       "      <td>152959594</td>\n",
       "      <td>Dirty Bomb</td>\n",
       "      <td>purchase</td>\n",
       "      <td>1.0</td>\n",
       "      <td>0</td>\n",
       "    </tr>\n",
       "    <tr>\n",
       "      <th>44657</th>\n",
       "      <td>83849502</td>\n",
       "      <td>Medieval II Total War</td>\n",
       "      <td>purchase</td>\n",
       "      <td>1.0</td>\n",
       "      <td>0</td>\n",
       "    </tr>\n",
       "    <tr>\n",
       "      <th>184120</th>\n",
       "      <td>214913026</td>\n",
       "      <td>Tactical Intervention</td>\n",
       "      <td>purchase</td>\n",
       "      <td>1.0</td>\n",
       "      <td>0</td>\n",
       "    </tr>\n",
       "    <tr>\n",
       "      <th>44633</th>\n",
       "      <td>83849502</td>\n",
       "      <td>Deadlight Original Soundtrack</td>\n",
       "      <td>purchase</td>\n",
       "      <td>1.0</td>\n",
       "      <td>0</td>\n",
       "    </tr>\n",
       "    <tr>\n",
       "      <th>0</th>\n",
       "      <td>151603712</td>\n",
       "      <td>The Elder Scrolls V Skyrim</td>\n",
       "      <td>play</td>\n",
       "      <td>273.0</td>\n",
       "      <td>0</td>\n",
       "    </tr>\n",
       "  </tbody>\n",
       "</table>\n",
       "<p>128804 rows × 5 columns</p>\n",
       "</div>"
      ],
      "text/plain": [
       "               id                                     game_title  use_type  \\\n",
       "65779    61506388              Burnout Paradise The Ultimate Box  purchase   \n",
       "136815   83770731  Warlock - Master of the Arcane Powerful Lords  purchase   \n",
       "87392   190022459                                  7 Days to Die  purchase   \n",
       "136812   83770731                                  Toybox Turbos  purchase   \n",
       "87390   190022459                                 Goat Simulator  purchase   \n",
       "...           ...                                            ...       ...   \n",
       "43653   152959594                                     Dirty Bomb  purchase   \n",
       "44657    83849502                          Medieval II Total War  purchase   \n",
       "184120  214913026                          Tactical Intervention  purchase   \n",
       "44633    83849502                  Deadlight Original Soundtrack  purchase   \n",
       "0       151603712                     The Elder Scrolls V Skyrim      play   \n",
       "\n",
       "        play_hr  x  \n",
       "65779       1.0  0  \n",
       "136815      1.0  0  \n",
       "87392       1.0  0  \n",
       "136812      1.0  0  \n",
       "87390       1.0  0  \n",
       "...         ... ..  \n",
       "43653       1.0  0  \n",
       "44657       1.0  0  \n",
       "184120      1.0  0  \n",
       "44633       1.0  0  \n",
       "0         273.0  0  \n",
       "\n",
       "[128804 rows x 5 columns]"
      ]
     },
     "execution_count": 13,
     "metadata": {},
     "output_type": "execute_result"
    }
   ],
   "source": [
    "# Show the result\n",
    "pd.DataFrame(data)"
   ]
  },
  {
   "cell_type": "code",
   "execution_count": 14,
   "metadata": {},
   "outputs": [
    {
     "name": "stdout",
     "output_type": "stream",
     "text": [
      "Exact Duplicates: 0\n",
      "Duplicate game_title within each id: 0\n"
     ]
    }
   ],
   "source": [
    "# Check for duplicate records\n",
    "print(\"Exact Duplicates:\", data.duplicated().sum())\n",
    "# Check for duplicate game_title values within each id group\n",
    "duplicates_within_id = data.duplicated(subset=['id', 'game_title'])\n",
    "print(\"Duplicate game_title within each id:\", duplicates_within_id.sum())\n",
    "\n"
   ]
  },
  {
   "cell_type": "markdown",
   "metadata": {},
   "source": [
    "####  Cosine Similarity for Text Deduplication"
   ]
  },
  {
   "cell_type": "code",
   "execution_count": null,
   "metadata": {},
   "outputs": [],
   "source": [
    "import pandas as pd\n",
    "import numpy as np\n",
    "from sklearn.feature_extraction.text import TfidfVectorizer\n",
    "from sklearn.neighbors import NearestNeighbors\n",
    "\n",
    "# Load your data\n",
    "# data = pd.read_csv(\"your_data.csv\")\n",
    "\n",
    "# Example simulated dataset\n",
    "data = pd.DataFrame({\n",
    "    'id': np.random.randint(1, 21, 10000),\n",
    "    'game_title': ['game title ' + str(i % 100) for i in range(10000)]\n",
    "})\n",
    "\n",
    "# Get unique ids and chunk size (25%)\n",
    "unique_ids = data['id'].unique()\n",
    "num_ids = len(unique_ids)\n",
    "chunk_size = max(1, int(0.25 * num_ids))\n",
    "\n",
    "# Final result\n",
    "final_df = pd.DataFrame(columns=data.columns)\n",
    "\n",
    "# Threshold for cosine similarity (1 - similarity since NearestNeighbors uses distance)\n",
    "similarity_threshold = 0.25\n",
    "\n",
    "for start in range(0, num_ids, chunk_size):\n",
    "    id_chunk = unique_ids[start:start + chunk_size]\n",
    "    chunk_data = data[data['id'].isin(id_chunk)].copy()\n",
    "\n",
    "    if chunk_data.shape[0] < 2:\n",
    "        final_df = pd.concat([final_df, chunk_data], ignore_index=True)\n",
    "        continue\n",
    "\n",
    "    vectorizer = TfidfVectorizer()\n",
    "    tfidf_matrix = vectorizer.fit_transform(chunk_data[\"game_title\"])\n",
    "\n",
    "    # Fit Nearest Neighbors with cosine metric\n",
    "    nn = NearestNeighbors(metric='cosine', radius=similarity_threshold)\n",
    "    nn.fit(tfidf_matrix)\n",
    "\n",
    "    # Find all pairs within the similarity threshold\n",
    "    distances, indices = nn.radius_neighbors(tfidf_matrix)\n",
    "\n",
    "    duplicate_indices = set()\n",
    "    for i, neighbors in enumerate(indices):\n",
    "        for j in neighbors:\n",
    "            if i < j:\n",
    "                duplicate_indices.add(j)\n",
    "\n",
    "    # Drop identified duplicates\n",
    "    chunk_data = chunk_data.drop(chunk_data.index[list(duplicate_indices)])\n",
    "\n",
    "    final_df = pd.concat([final_df, chunk_data], ignore_index=True)\n",
    "\n",
    "# Show deduplicated result\n",
    "print(final_df)\n"
   ]
  },
  {
   "cell_type": "markdown",
   "metadata": {},
   "source": [
    "#####  Clustering-Based Deduplication (DBSCAN)"
   ]
  },
  {
   "cell_type": "code",
   "execution_count": null,
   "metadata": {},
   "outputs": [],
   "source": [
    "#####  Clustering-Based Deduplication (DBSCAN)\n",
    "\n",
    "from sklearn.cluster import DBSCAN\n",
    "from sklearn.preprocessing import LabelEncoder\n",
    "import numpy as np\n",
    "\n",
    "data = pd.read_csv(\"steam-200k.csv\")\n",
    "data.columns = [\"id\",\"game_title\",\"use_type\",\"play_hr\",\"x\"]\n",
    "\n",
    "\n",
    "\n",
    "# Encode categorical values as numbers\n",
    "encoder = LabelEncoder()\n",
    "data[\"Customer_Encoded\"] = encoder.fit_transform(data[\"game_title\"])\n",
    "\n",
    "# Apply DBSCAN clustering\n",
    "clustering = DBSCAN(eps=1, min_samples=2).fit(np.array(data[\"Customer_Encoded\"]).reshape(-1, 1))\n",
    "data[\"Cluster\"] = clustering.labels_\n",
    "\n",
    "# Remove records that belong to the same cluster\n",
    "data = data[data[\"Cluster\"] == -1].drop(columns=[\"Customer_Encoded\", \"Cluster\"])\n",
    "\n",
    "print(data)\n",
    "\n"
   ]
  }
 ],
 "metadata": {
  "kernelspec": {
   "display_name": "moco_env",
   "language": "python",
   "name": "python3"
  },
  "language_info": {
   "codemirror_mode": {
    "name": "ipython",
    "version": 3
   },
   "file_extension": ".py",
   "mimetype": "text/x-python",
   "name": "python",
   "nbconvert_exporter": "python",
   "pygments_lexer": "ipython3",
   "version": "3.9.21"
  }
 },
 "nbformat": 4,
 "nbformat_minor": 2
}
