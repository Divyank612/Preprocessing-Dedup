{
 "cells": [
  {
   "cell_type": "markdown",
   "id": "45492b27",
   "metadata": {},
   "source": [
    "# 🧹 Data Deduplication and Cleaning Techniques\n",
    "This notebook covers multiple methods to identify and remove duplicate or similar records using techniques such as hashing, fuzzy matching, cosine similarity, and clustering."
   ]
  },
  {
   "cell_type": "markdown",
   "id": "6db0404a",
   "metadata": {},
   "source": [
    "## 📥 Step 1: Load the Dataset"
   ]
  },
  {
   "cell_type": "code",
   "execution_count": null,
   "id": "9a61b269",
   "metadata": {},
   "outputs": [],
   "source": [
    "import pandas as pd\n",
    "\n",
    "# Load dataset\n",
    "df = pd.read_csv(\"complex_sales_data.csv\")\n",
    "\n",
    "# Display basic info\n",
    "print(df.info())\n",
    "print(df.head())"
   ]
  },
  {
   "cell_type": "markdown",
   "id": "8dd23751",
   "metadata": {},
   "source": [
    "## 🔍 Step 2: Check for Duplicates"
   ]
  },
  {
   "cell_type": "code",
   "execution_count": null,
   "id": "ca44b1af",
   "metadata": {},
   "outputs": [],
   "source": [
    "# Check for different types of duplicates\n",
    "print(\"Exact Duplicates:\", df.duplicated().sum())\n",
    "print(\"Duplicate Order_IDs:\", df.duplicated(subset=['Order_ID']).sum())\n",
    "print(\"Duplicate Customer Orders:\", df.duplicated(subset=['Customer_Name', 'Product_Name', 'Order_Date']).sum())"
   ]
  },
  {
   "cell_type": "markdown",
   "id": "2344dfda",
   "metadata": {},
   "source": [
    "## 🧽 Step 3: Clean and Standardize Data"
   ]
  },
  {
   "cell_type": "code",
   "execution_count": null,
   "id": "78ab42a1",
   "metadata": {},
   "outputs": [],
   "source": [
    "# Trim spaces and convert names to lowercase\n",
    "df[\"Customer_Name\"] = df[\"Customer_Name\"].str.strip().str.lower()\n",
    "\n",
    "# Standardize date format\n",
    "df[\"Order_Date\"] = pd.to_datetime(df[\"Order_Date\"], errors=\"coerce\", dayfirst=True)\n",
    "\n",
    "print(df.head())"
   ]
  },
  {
   "cell_type": "markdown",
   "id": "33bd7205",
   "metadata": {},
   "source": [
    "## ❌ Step 4: Remove Exact Duplicates"
   ]
  },
  {
   "cell_type": "code",
   "execution_count": null,
   "id": "cce4027f",
   "metadata": {},
   "outputs": [],
   "source": [
    "df = df.drop_duplicates()\n",
    "print(\"After removing exact duplicates:\", df.shape)"
   ]
  },
  {
   "cell_type": "markdown",
   "id": "00b5e891",
   "metadata": {},
   "source": [
    "## 🔄 Step 5: Merge Partial Duplicates"
   ]
  },
  {
   "cell_type": "code",
   "execution_count": null,
   "id": "e758c042",
   "metadata": {},
   "outputs": [],
   "source": [
    "# Group and aggregate similar records\n",
    "df = df.groupby([\"Customer_Name\", \"Product_Name\", \"Order_Date\"], as_index=False).agg({\n",
    "    \"Quantity\": \"sum\",\n",
    "    \"Total_Amount\": \"sum\",\n",
    "    \"Price_Per_Unit\": \"first\",\n",
    "    \"Order_ID\": \"first\"\n",
    "})\n",
    "print(\"After merging partial duplicates:\", df.shape)"
   ]
  },
  {
   "cell_type": "markdown",
   "id": "be795682",
   "metadata": {},
   "source": [
    "## 🤖 Step 6: Fuzzy Matching for Similar Names"
   ]
  },
  {
   "cell_type": "code",
   "execution_count": null,
   "id": "944833f9",
   "metadata": {},
   "outputs": [],
   "source": [
    "from fuzzywuzzy import fuzz, process\n",
    "\n",
    "# Function to find and replace similar names\n",
    "def standardize_names(df, threshold=85):\n",
    "    unique_names = df[\"Customer_Name\"].unique()\n",
    "    name_mapping = {}\n",
    "    for name in unique_names:\n",
    "        match = process.extractOne(name, unique_names, scorer=fuzz.token_sort_ratio)\n",
    "        if match[1] >= threshold and match[0] != name:\n",
    "            name_mapping[name] = match[0]\n",
    "    df[\"Customer_Name\"] = df[\"Customer_Name\"].replace(name_mapping)\n",
    "    return df\n",
    "\n",
    "# Apply fuzzy deduplication\n",
    "df = standardize_names(df)\n",
    "print(\"After fixing fuzzy duplicates:\", df.shape)"
   ]
  },
  {
   "cell_type": "markdown",
   "id": "95961432",
   "metadata": {},
   "source": [
    "## 💾 Step 7: Save the Cleaned Data"
   ]
  },
  {
   "cell_type": "code",
   "execution_count": null,
   "id": "553ee5bd",
   "metadata": {},
   "outputs": [],
   "source": [
    "df.to_csv(\"cleaned_sales_data.csv\", index=False)\n",
    "print(\"Cleaned data saved successfully!\")"
   ]
  }
 ],
 "metadata": {},
 "nbformat": 4,
 "nbformat_minor": 5
}
